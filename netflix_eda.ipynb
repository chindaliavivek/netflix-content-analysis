{
 "cells": [
  {
   "cell_type": "markdown",
   "id": "9428089d",
   "metadata": {},
   "source": [
    "# Netflix Content Analysis — Individual Project\n",
    "End-to-end analysis using **Python, Pandas, NumPy, Matplotlib**.\n",
    "\n",
    "> Replace the dataset path if needed. Run top-to-bottom."
   ]
  },
  {
   "cell_type": "code",
   "execution_count": null,
   "id": "b535ee6b",
   "metadata": {},
   "outputs": [],
   "source": [
    "\n",
    "# Imports\n",
    "import os, sys, math, textwrap\n",
    "import numpy as np\n",
    "import pandas as pd\n",
    "import matplotlib.pyplot as plt\n",
    "\n",
    "# Matplotlib inline (for Jupyter)\n",
    "%matplotlib inline\n",
    "\n",
    "# Paths\n",
    "DATA_PATH = \"netflix_titles.csv\"   # Put the Kaggle CSV here\n",
    "FIG_DIR = \"figures\"\n",
    "os.makedirs(FIG_DIR, exist_ok=True)\n",
    "\n",
    "print(\"Python version:\", sys.version)\n",
    "print(\"Pandas version:\", pd.__version__)\n",
    "print(\"Numpy version:\", np.__version__)\n",
    "print(\"Figures will be saved to:\", os.path.abspath(FIG_DIR))\n"
   ]
  },
  {
   "cell_type": "markdown",
   "id": "753dcfa2",
   "metadata": {},
   "source": [
    "## 1. Load the dataset"
   ]
  },
  {
   "cell_type": "code",
   "execution_count": null,
   "id": "92098633",
   "metadata": {},
   "outputs": [],
   "source": [
    "\n",
    "# If the file is missing, this will raise a FileNotFoundError\n",
    "df = pd.read_csv(DATA_PATH, low_memory=False)\n",
    "print(\"Shape:\", df.shape)\n",
    "df.head()\n"
   ]
  },
  {
   "cell_type": "markdown",
   "id": "6a3d7951",
   "metadata": {},
   "source": [
    "## 2. Standardize columns & basic cleaning"
   ]
  },
  {
   "cell_type": "code",
   "execution_count": null,
   "id": "fe5d2316",
   "metadata": {},
   "outputs": [],
   "source": [
    "\n",
    "# Normalize column names\n",
    "df.columns = [c.strip().lower().replace(\" \", \"_\") for c in df.columns]\n",
    "\n",
    "# Strip whitespace in object columns\n",
    "for c in df.select_dtypes(include=\"object\").columns:\n",
    "    df[c] = df[c].astype(str).str.strip().replace({\"nan\": np.nan})\n",
    "\n",
    "# Parse dates where relevant\n",
    "if \"date_added\" in df.columns:\n",
    "    df[\"date_added\"] = pd.to_datetime(df[\"date_added\"], errors=\"coerce\")\n",
    "    df[\"year_added\"] = df[\"date_added\"].dt.year\n",
    "    df[\"month_added\"] = df[\"date_added\"].dt.month\n",
    "\n",
    "# Deduplicate if show_id exists\n",
    "if \"show_id\" in df.columns:\n",
    "    before = len(df)\n",
    "    df = df.drop_duplicates(subset=[\"show_id\"])\n",
    "    after = len(df)\n",
    "    print(f\"Deduplicated by show_id: {before-after} rows removed\")\n",
    "\n",
    "# Quick missing values summary\n",
    "na = df.isna().sum().sort_values(ascending=False)\n",
    "na.to_frame(\"missing_count\").head(10)\n"
   ]
  },
  {
   "cell_type": "markdown",
   "id": "44622177",
   "metadata": {},
   "source": [
    "## 3. Helper transforms: country & genre"
   ]
  },
  {
   "cell_type": "code",
   "execution_count": null,
   "id": "68b48c20",
   "metadata": {},
   "outputs": [],
   "source": [
    "\n",
    "def split_explode(frame, col):\n",
    "    # Split by comma and explode into rows\n",
    "    s = frame[col].dropna().astype(str).str.split(\",\")\n",
    "    ex = frame.loc[s.index].copy()\n",
    "    ex[col] = s\n",
    "    ex = ex.explode(col)\n",
    "    ex[col] = ex[col].str.strip()\n",
    "    return ex\n",
    "\n",
    "countries = split_explode(df, \"country\") if \"country\" in df.columns else pd.DataFrame()\n",
    "genres = split_explode(df, \"listed_in\") if \"listed_in\" in df.columns else pd.DataFrame()\n",
    "\n",
    "print(\"Unique countries:\", countries[\"country\"].nunique() if not countries.empty else 0)\n",
    "print(\"Unique genres:\", genres[\"listed_in\"].nunique() if not genres.empty else 0)\n"
   ]
  },
  {
   "cell_type": "markdown",
   "id": "19d39e20",
   "metadata": {},
   "source": [
    "## 4. Movies vs TV Shows"
   ]
  },
  {
   "cell_type": "code",
   "execution_count": null,
   "id": "f70d1978",
   "metadata": {},
   "outputs": [],
   "source": [
    "\n",
    "type_counts = df[\"type\"].value_counts(dropna=False)\n",
    "display(type_counts)\n",
    "\n",
    "plt.figure()\n",
    "type_counts.plot(kind=\"bar\")\n",
    "plt.title(\"Count by Type\")\n",
    "plt.xlabel(\"Type\")\n",
    "plt.ylabel(\"Count\")\n",
    "plt.tight_layout()\n",
    "plt.savefig(os.path.join(FIG_DIR, \"type_counts.png\"))\n",
    "plt.show()\n"
   ]
  },
  {
   "cell_type": "markdown",
   "id": "d1e91e08",
   "metadata": {},
   "source": [
    "## 5. Content Added by Year"
   ]
  },
  {
   "cell_type": "code",
   "execution_count": null,
   "id": "420d2604",
   "metadata": {},
   "outputs": [],
   "source": [
    "\n",
    "if \"year_added\" in df.columns:\n",
    "    year_counts = df.groupby(\"year_added\").size().dropna()\n",
    "    display(year_counts.tail(10))\n",
    "\n",
    "    plt.figure()\n",
    "    year_counts.plot(kind=\"line\", marker=\"o\")\n",
    "    plt.title(\"Titles Added by Year\")\n",
    "    plt.xlabel(\"Year Added\")\n",
    "    plt.ylabel(\"Count\")\n",
    "    plt.tight_layout()\n",
    "    plt.savefig(os.path.join(FIG_DIR, \"titles_by_year_added.png\"))\n",
    "    plt.show()\n",
    "else:\n",
    "    print(\"year_added not available\")\n"
   ]
  },
  {
   "cell_type": "markdown",
   "id": "5e98898e",
   "metadata": {},
   "source": [
    "## 6. Top Countries"
   ]
  },
  {
   "cell_type": "code",
   "execution_count": null,
   "id": "e8aef0bb",
   "metadata": {},
   "outputs": [],
   "source": [
    "\n",
    "if not countries.empty:\n",
    "    top_countries = countries[\"country\"].value_counts().head(10)\n",
    "    display(top_countries)\n",
    "\n",
    "    plt.figure()\n",
    "    top_countries.plot(kind=\"bar\")\n",
    "    plt.title(\"Top 10 Countries by Titles\")\n",
    "    plt.xlabel(\"Country\")\n",
    "    plt.ylabel(\"Count\")\n",
    "    plt.tight_layout()\n",
    "    plt.savefig(os.path.join(FIG_DIR, \"top_countries.png\"))\n",
    "    plt.show()\n",
    "else:\n",
    "    print(\"Country data not available\")\n"
   ]
  },
  {
   "cell_type": "markdown",
   "id": "69c8ed11",
   "metadata": {},
   "source": [
    "## 7. Top Genres"
   ]
  },
  {
   "cell_type": "code",
   "execution_count": null,
   "id": "e79f12b6",
   "metadata": {},
   "outputs": [],
   "source": [
    "\n",
    "if not genres.empty:\n",
    "    top_genres = genres[\"listed_in\"].value_counts().head(10)\n",
    "    display(top_genres)\n",
    "\n",
    "    plt.figure()\n",
    "    top_genres.plot(kind=\"bar\")\n",
    "    plt.title(\"Top 10 Genres\")\n",
    "    plt.xlabel(\"Genre\")\n",
    "    plt.ylabel(\"Count\")\n",
    "    plt.tight_layout()\n",
    "    plt.savefig(os.path.join(FIG_DIR, \"top_genres.png\"))\n",
    "    plt.show()\n",
    "else:\n",
    "    print(\"Genre data not available\")\n"
   ]
  },
  {
   "cell_type": "markdown",
   "id": "f0747b68",
   "metadata": {},
   "source": [
    "## 8. Ratings Distribution"
   ]
  },
  {
   "cell_type": "code",
   "execution_count": null,
   "id": "0f0a77b4",
   "metadata": {},
   "outputs": [],
   "source": [
    "\n",
    "if \"rating\" in df.columns:\n",
    "    ratings = df[\"rating\"].value_counts().sort_values(ascending=False)\n",
    "    display(ratings)\n",
    "\n",
    "    plt.figure()\n",
    "    ratings.plot(kind=\"bar\")\n",
    "    plt.title(\"Ratings Distribution\")\n",
    "    plt.xlabel(\"Rating\")\n",
    "    plt.ylabel(\"Count\")\n",
    "    plt.tight_layout()\n",
    "    plt.savefig(os.path.join(FIG_DIR, \"ratings_distribution.png\"))\n",
    "    plt.show()\n",
    "else:\n",
    "    print(\"rating column not available\")\n"
   ]
  },
  {
   "cell_type": "markdown",
   "id": "ade14636",
   "metadata": {},
   "source": [
    "## 9. Duration (Movies) & Seasons (TV)"
   ]
  },
  {
   "cell_type": "code",
   "execution_count": null,
   "id": "fc1aedf0",
   "metadata": {},
   "outputs": [],
   "source": [
    "\n",
    "if \"duration\" in df.columns and \"type\" in df.columns:\n",
    "    # Extract numeric duration/seasons\n",
    "    dur_num = df[\"duration\"].str.extract(r\"(\\d+)\").rename(columns={0: \"value\"}).astype(float)\n",
    "    df[\"duration_value\"] = dur_num[\"value\"]\n",
    "\n",
    "    # Split by type\n",
    "    movies = df[df[\"type\"].str.lower() == \"movie\"]\n",
    "    shows = df[df[\"type\"].str.lower() == \"tv show\"]\n",
    "\n",
    "    # Movies (minutes)\n",
    "    mv = movies[\"duration_value\"].dropna()\n",
    "    if not mv.empty:\n",
    "        plt.figure()\n",
    "        mv.hist(bins=20)\n",
    "        plt.title(\"Movie Durations (minutes)\")\n",
    "        plt.xlabel(\"Minutes\")\n",
    "        plt.ylabel(\"Frequency\")\n",
    "        plt.tight_layout()\n",
    "        plt.savefig(os.path.join(FIG_DIR, \"movie_duration_hist.png\"))\n",
    "        plt.show()\n",
    "\n",
    "    # TV Shows (seasons)\n",
    "    sv = shows[\"duration_value\"].dropna()\n",
    "    if not sv.empty:\n",
    "        plt.figure()\n",
    "        sv.hist(bins=10)\n",
    "        plt.title(\"TV Show Seasons\")\n",
    "        plt.xlabel(\"Seasons\")\n",
    "        plt.ylabel(\"Frequency\")\n",
    "        plt.tight_layout()\n",
    "        plt.savefig(os.path.join(FIG_DIR, \"tvshow_seasons_hist.png\"))\n",
    "        plt.show()\n",
    "else:\n",
    "    print(\"duration/type columns not available\")\n"
   ]
  },
  {
   "cell_type": "markdown",
   "id": "5b9c0a02",
   "metadata": {},
   "source": [
    "## 10. Auto-generate a short insights report"
   ]
  },
  {
   "cell_type": "code",
   "execution_count": null,
   "id": "1d745362",
   "metadata": {},
   "outputs": [],
   "source": [
    "\n",
    "insights = []\n",
    "\n",
    "# 1) Movies vs TV\n",
    "if \"type\" in df.columns:\n",
    "    tc = df[\"type\"].value_counts()\n",
    "    if not tc.empty:\n",
    "        top_type = tc.idxmax()\n",
    "        pct = round(tc.max() / tc.sum() * 100, 1)\n",
    "        insights.append(f\"- **Content mix:** {top_type} leads with ~{pct}% of total titles.\")\n",
    "\n",
    "# 2) Recent years\n",
    "if \"year_added\" in df.columns and df[\"year_added\"].notna().any():\n",
    "    yr = df[\"year_added\"].value_counts().sort_index()\n",
    "    if not yr.empty:\n",
    "        peak_year = yr.idxmax()\n",
    "        insights.append(f\"- **Peak addition year:** {int(peak_year)} had the highest number of titles added.\")\n",
    "\n",
    "# 3) Top country\n",
    "if not countries.empty:\n",
    "    top_country, top_country_count = countries[\"country\"].value_counts().idxmax(), countries[\"country\"].value_counts().max()\n",
    "    insights.append(f\"- **Top producing country:** {top_country} (~{top_country_count} titles).\")\n",
    "\n",
    "# 4) Top genre\n",
    "if not genres.empty:\n",
    "    top_genre, top_genre_count = genres[\"listed_in\"].value_counts().idxmax(), genres[\"listed_in\"].value_counts().max()\n",
    "    insights.append(f\"- **Top genre:** {top_genre} (~{top_genre_count} titles).\")\n",
    "\n",
    "# 5) Ratings\n",
    "if \"rating\" in df.columns and df[\"rating\"].notna().any():\n",
    "    top_rating = df[\"rating\"].value_counts().idxmax()\n",
    "    insights.append(f\"- **Most common rating:** {top_rating}.\")\n",
    "\n",
    "report = \"# Netflix Content Analysis — Quick Insights\\n\\n\" + \"\\n\".join(insights) + \"\\n\\n---\\nGenerated by notebook.\"\n",
    "with open(\"report.md\", \"w\", encoding=\"utf-8\") as rf:\n",
    "    rf.write(report)\n",
    "\n",
    "print(\"Report written to report.md\")\n"
   ]
  },
  {
   "cell_type": "markdown",
   "id": "eb3dc888",
   "metadata": {},
   "source": [
    "## 11. Save a cleaned dataset"
   ]
  },
  {
   "cell_type": "code",
   "execution_count": null,
   "id": "a74f13a3",
   "metadata": {},
   "outputs": [],
   "source": [
    "\n",
    "clean = df.copy()\n",
    "# Example: keep core columns if present\n",
    "core_cols = [c for c in [\"show_id\",\"type\",\"title\",\"director\",\"cast\",\"country\",\"date_added\",\"release_year\",\"rating\",\"duration\",\"listed_in\",\"description\",\"year_added\",\"month_added\",\"duration_value\"] if c in clean.columns]\n",
    "clean = clean[core_cols]\n",
    "clean.to_csv(\"netflix_titles_clean.csv\", index=False)\n",
    "print(\"Saved netflix_titles_clean.csv with shape:\", clean.shape)\n"
   ]
  }
 ],
 "metadata": {},
 "nbformat": 4,
 "nbformat_minor": 5
}
